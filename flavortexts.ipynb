{
 "metadata": {
  "language_info": {
   "codemirror_mode": {
    "name": "ipython",
    "version": 3
   },
   "file_extension": ".py",
   "mimetype": "text/x-python",
   "name": "python",
   "nbconvert_exporter": "python",
   "pygments_lexer": "ipython3",
   "version": "3.9.0"
  },
  "orig_nbformat": 2,
  "kernelspec": {
   "name": "python390jvsc74a57bd093fdd7d3a45648590bf5b151060252445d06a7f1d52957118c5d25c62f0f888a",
   "display_name": "Python 3.9.0 64-bit"
  },
  "metadata": {
   "interpreter": {
    "hash": "93fdd7d3a45648590bf5b151060252445d06a7f1d52957118c5d25c62f0f888a"
   }
  }
 },
 "nbformat": 4,
 "nbformat_minor": 2,
 "cells": [
  {
   "cell_type": "code",
   "execution_count": 12,
   "metadata": {},
   "outputs": [],
   "source": [
    "import json\n",
    "import spacy\n",
    "import markovify\n",
    "import re"
   ]
  },
  {
   "source": [
    "In this project, we'll be working with a JSON from Scryfall. \n",
    "They provide a JSON with all their data here: https://scryfall.com/docs/api/bulk-data\n",
    "We're using the all English cards datset."
   ],
   "cell_type": "markdown",
   "metadata": {}
  },
  {
   "source": [
    "First, we'll load in the data using python's native JSON module."
   ],
   "cell_type": "markdown",
   "metadata": {}
  },
  {
   "cell_type": "code",
   "execution_count": 2,
   "metadata": {},
   "outputs": [],
   "source": [
    "with open( 'all_english_june_2021.json', 'r', encoding = 'utf-8') as input:\n",
    "    cards_json = json.load(input)\n"
   ]
  },
  {
   "source": [
    "Then, we can add unique flavor texts to a giant list. Since we only want 'real' in-world flavor texts, we'll ignore silver-bordered cards"
   ],
   "cell_type": "markdown",
   "metadata": {}
  },
  {
   "cell_type": "code",
   "execution_count": 15,
   "metadata": {
    "tags": []
   },
   "outputs": [],
   "source": [
    "flavor_text_list = []\n",
    "for card in cards_json:\n",
    "    #we don't want silver-bordered cards in here\n",
    "    if card.get('border_color') != \"silver\":\n",
    "        flavor_text = card.get('flavor_text')\n",
    "        #ignore noneTypes\n",
    "        if type(flavor_text) != type(None):\n",
    "            #make flavor texts single line, and get rid of quotes and asterisks (used to indicate italics) Slashes indicate verses, and we don't want those either\n",
    "            flavor_text = flavor_text.replace(\"\\n\", \"\").replace('\"', \"\").replace(\"*\", \"\").replace(\" / \", \" \")\n",
    "            #replace the extraneous slashes\n",
    "            flavor_text = re.sub('\\D/\\D', '', flavor_text)\n",
    "            if flavor_text not in flavor_text_list:\n",
    "                flavor_text_list.append(flavor_text)\n",
    "\n",
    "    corpus_string = \"\\n\".join(flavor_text_list)"
   ]
  },
  {
   "cell_type": "code",
   "execution_count": 18,
   "metadata": {},
   "outputs": [],
   "source": [
    "nlp = spacy.load(\"en_core_web_lg\")\n",
    "\n",
    "class POSifiedText(markovify.Text):\n",
    "    def word_split(self, sentence):\n",
    "        return [\"::\".join((word.orth_, word.pos_)) for word in nlp(sentence)]\n",
    "\n",
    "    def word_join(self, words):\n",
    "        sentence = \" \".join(word.split(\"::\")[0] for word in words)\n",
    "        return sentence\n",
    "\n",
    "text_model = POSifiedText(corpus_string, well_formed = False)"
   ]
  },
  {
   "cell_type": "code",
   "execution_count": 66,
   "metadata": {},
   "outputs": [],
   "source": [
    "def space_correctly(input):\n",
    "    spaced = input.replace(\" '\", \"'\").replace(\" .\", \".\").replace(\" ?\", \"?\").replace(\" ,\", \",\").replace(\" ;\", \";\").replace(\" !\", \"!\").replace(\" n't\", \"n't\").replace(\" - \", \"-\")\n",
    "    split_on_lines = spaced.split(\"\\n\")\n",
    "    return split_on_lines[0]"
   ]
  },
  {
   "cell_type": "code",
   "execution_count": 97,
   "metadata": {},
   "outputs": [
    {
     "output_type": "stream",
     "name": "stdout",
     "text": [
      "Random sentences:\n",
      "Their wisdom I crave, but for reasons known only to those who make such claims see only what we meant when we stand together.—Numa, Joraga hunter \n",
      "The king would die for nothing, you fellas are going to be, but they care only for the path to unity is forged in confidence.\n",
      "I was counting on it when stricken.—Lim-Dûl, the might of the Swarm begins.\n",
      "It was the worst of the Weatherlight as his longing, their story lost to them.—Vy Covalt, Mirran resistance \n",
      "We strike without fear.\n",
      "\n",
      "Short sentences:\n",
      "Dark schemes cut down my angel I only started my fall.—Crovax \n",
      "They smother their prey and then there was night.\n",
      "Clouds are the markers of its existence.\n",
      "I have some teeth.—Aeschel, royal archivist \n",
      "By the tongues of a rakshasa is soft, its commander wounded, it lives by one.\n",
      "\n",
      "Sentences that start with Gideon:\n",
      "Gideon's right  we all need someone to watch them reassemble one another.\n",
      "Gideon — he has great form.—Liliana Vess \n",
      "Gideon never believed in a weapon, perfecting its vision.\n",
      "Gideon understood the difference.\n",
      "Gideon never believed that his murderer would pass through the chest with his final project would be no war, as the chaos created by an unknown outcome.\n"
     ]
    }
   ],
   "source": [
    "# Print five randomly-generated sentences\n",
    "print(\"Random sentences:\")\n",
    "for i in range(5):\n",
    "    print(space_correctly(text_model.make_sentence()))\n",
    "\n",
    "print(\"\\nShort sentences:\")\n",
    "# Print three randomly-generated sentences of no more than 280 characters\n",
    "for i in range(5):\n",
    "    print(space_correctly(text_model.make_short_sentence(280)))\n",
    "\n",
    "# Print randomly-generated sentences that start with a certain word\n",
    "word = \"Gideon\"\n",
    "print(f\"\\nSentences that start with {word}:\")\n",
    "for i in range(5):\n",
    "    print(space_correctly(text_model.make_sentence_with_start(word, strict=False)))"
   ]
  },
  {
   "cell_type": "code",
   "execution_count": 57,
   "metadata": {},
   "outputs": [],
   "source": [
    "def brute_force_sentence_about(topic, tries = 1000):\n",
    "    lowercase_topic = topic.lower()\n",
    "    i = 0\n",
    "    while i <= tries:\n",
    "        sentence = space_correctly(text_model.make_sentence())\n",
    "        if lowercase_topic in sentence.lower():\n",
    "            return sentence\n",
    "        else:\n",
    "            i+=1\n",
    "    return f\"No sentence about {topic} could be generated in {tries} attempts.\"\n"
   ]
  },
  {
   "cell_type": "code",
   "execution_count": 81,
   "metadata": {},
   "outputs": [
    {
     "output_type": "stream",
     "name": "stdout",
     "text": [
      "\nSentences about —:\nBut the other side.—Telim'Tor \nThis is necessity.—Kaervek \nCould they be following surges in crystalline energy?—Naireh, Ketria elementalist \nWhat walls?—Jaya Ballard, Task Mage \nWe respect all lifeforms, but the venom glands, then we'll build you a Rat to madness tease Why ev'n a Rat to madness tease Why ev'n a Rat may plague you... — Samuel Butler \n"
     ]
    }
   ],
   "source": [
    "# Print randomly-generated sentences that include with a certain word\n",
    "word = \"Phyrexia\"\n",
    "print(f\"\\nSentences about {word}:\")\n",
    "for i in range(5):\n",
    "    print(brute_force_sentence_about(word))"
   ]
  },
  {
   "cell_type": "code",
   "execution_count": 83,
   "metadata": {},
   "outputs": [],
   "source": [
    "def generate_quote(tries = 1000):\n",
    "    return brute_force_sentence_about(\"—\", 1000)\n"
   ]
  },
  {
   "cell_type": "code",
   "execution_count": 95,
   "metadata": {},
   "outputs": [
    {
     "output_type": "stream",
     "name": "stdout",
     "text": [
      "\nQuotes:\nDespite their stake in the form you may transcend your situation.—Gerda Äagesdotter, Archmage of the pariah is the most respected by storm and wished to hunt the Returned and the hot summer sun and trumpet their passing.\nI'm smart enough to kill a lot smaller and its father, I can look down on them.—Dierk, geistmage \nShe memorized every arcane text in the fight.—Observations of the living.—Thalia, Knight-Cathar \nWe've survived there so much that they existed at all.—Ganedor, loxodon surgeon \nUnder Yavimaya's other, more quickly than age.—Sensei Golden-Tail \n"
     ]
    }
   ],
   "source": [
    "# Print quotes\n",
    "print(f\"\\nQuotes:\")\n",
    "for i in range(5):\n",
    "    print(generate_quote())"
   ]
  },
  {
   "cell_type": "code",
   "execution_count": 98,
   "metadata": {},
   "outputs": [
    {
     "output_type": "stream",
     "name": "stdout",
     "text": [
      "<class '__main__.POSifiedText'>\n"
     ]
    }
   ],
   "source": [
    "print(type(text_model))"
   ]
  },
  {
   "cell_type": "code",
   "execution_count": null,
   "metadata": {},
   "outputs": [],
   "source": []
  }
 ]
}